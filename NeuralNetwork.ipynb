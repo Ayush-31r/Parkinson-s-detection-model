{
 "cells": [
  {
   "cell_type": "markdown",
   "id": "a03ac852",
   "metadata": {},
   "source": [
    "First we will load all voices into 5 sec chunks and label them healthy or unhealthy"
   ]
  },
  {
   "cell_type": "code",
   "execution_count": 1,
   "id": "06d841aa",
   "metadata": {},
   "outputs": [
    {
     "name": "stdout",
     "output_type": "stream",
     "text": [
      "📂 Found 43 files in data/healthy\n"
     ]
    },
    {
     "name": "stderr",
     "output_type": "stream",
     "text": [
      "c:\\Users\\ayush\\OneDrive\\Desktop\\Evrything\\Workspace\\Pandas\\venv\\Lib\\site-packages\\torchaudio\\_backend\\utils.py:213: UserWarning: In 2.9, this function's implementation will be changed to use torchaudio.load_with_torchcodec` under the hood. Some parameters like ``normalize``, ``format``, ``buffer_size``, and ``backend`` will be ignored. We recommend that you port your code to rely directly on TorchCodec's decoder instead: https://docs.pytorch.org/torchcodec/stable/generated/torchcodec.decoders.AudioDecoder.html#torchcodec.decoders.AudioDecoder.\n",
      "  warnings.warn(\n",
      "c:\\Users\\ayush\\OneDrive\\Desktop\\Evrything\\Workspace\\Pandas\\venv\\Lib\\site-packages\\torchaudio\\_backend\\utils.py:337: UserWarning: In 2.9, this function's implementation will be changed to use torchaudio.save_with_torchcodec` under the hood. Some parameters like format, encoding, bits_per_sample, buffer_size, and ``backend`` will be ignored. We recommend that you port your code to rely directly on TorchCodec's encoder instead: https://docs.pytorch.org/torchcodec/stable/generated/torchcodec.encoders.AudioEncoder\n",
      "  warnings.warn(\n"
     ]
    },
    {
     "name": "stdout",
     "output_type": "stream",
     "text": [
      "📂 Found 32 files in data/unhealthy\n",
      "✅ Total chunks created: 2149\n"
     ]
    }
   ],
   "source": [
    "import os\n",
    "import torch\n",
    "import torchaudio\n",
    "import torchaudio.transforms as T\n",
    "\n",
    "# Paths\n",
    "healthy_path = \"data/healthy\"\n",
    "unhealthy_path = \"data/unhealthy\"\n",
    "\n",
    "\n",
    "output_path = \"processed_chunks\"\n",
    "os.makedirs(output_path, exist_ok=True)\n",
    "\n",
    "chunk_duration = 5  # seconds\n",
    "target_sr = 22050   # sampling rate\n",
    "\n",
    "def process_folder(input_path, label):\n",
    "    files = [f for f in os.listdir(input_path) if f.endswith(\".wav\")]\n",
    "    print(f\"📂 Found {len(files)} files in {input_path}\")\n",
    "\n",
    "    all_chunks = []\n",
    "    samples_per_chunk = target_sr * chunk_duration\n",
    "\n",
    "    for file in files:\n",
    "        file_path = os.path.join(input_path, file)\n",
    "\n",
    "        # Load audio\n",
    "        waveform, sr = torchaudio.load(file_path)\n",
    "\n",
    "        # Convert to mono if stereo\n",
    "        if waveform.shape[0] > 1:\n",
    "            waveform = torch.mean(waveform, dim=0, keepdim=True)\n",
    "\n",
    "        # Resample if needed\n",
    "        if sr != target_sr:\n",
    "            resampler = T.Resample(sr, target_sr)\n",
    "            waveform = resampler(waveform)\n",
    "\n",
    "        total_samples = waveform.shape[1]\n",
    "        num_chunks = total_samples // samples_per_chunk\n",
    "        remainder = total_samples % samples_per_chunk\n",
    "\n",
    "        # Full 5s chunks\n",
    "        for i in range(num_chunks):\n",
    "            start = i * samples_per_chunk\n",
    "            end = start + samples_per_chunk\n",
    "            chunk = waveform[:, start:end]\n",
    "            all_chunks.append((chunk, label))\n",
    "\n",
    "            # Save chunk\n",
    "            out_file = f\"{os.path.splitext(file)[0]}_chunk{i}_{label}.wav\"\n",
    "            torchaudio.save(os.path.join(output_path, out_file), chunk, target_sr)\n",
    "\n",
    "        # Handle remainder\n",
    "        if remainder > 0:\n",
    "            last_chunk = waveform[:, -remainder:]\n",
    "            pad_size = samples_per_chunk - remainder\n",
    "            padded = torch.nn.functional.pad(last_chunk, (0, pad_size))\n",
    "            all_chunks.append((padded, label))\n",
    "\n",
    "            out_file = f\"{os.path.splitext(file)[0]}_lastchunk_{label}.wav\"\n",
    "            torchaudio.save(os.path.join(output_path, out_file), padded, target_sr)\n",
    "\n",
    "    return all_chunks\n",
    "\n",
    "\n",
    "# Process both sets\n",
    "healthy_chunks = process_folder(healthy_path, label=0)     # 0 = healthy\n",
    "unhealthy_chunks = process_folder(unhealthy_path, label=1) # 1 = unhealthy\n",
    "\n",
    "# Combine dataset\n",
    "dataset = healthy_chunks + unhealthy_chunks\n",
    "print(f\"✅ Total chunks created: {len(dataset)}\")\n"
   ]
  },
  {
   "cell_type": "code",
   "execution_count": 8,
   "id": "093bdadb",
   "metadata": {},
   "outputs": [
    {
     "name": "stdout",
     "output_type": "stream",
     "text": [
      "✅ Total samples: 2149\n",
      "📊 Train: 1719, Test: 430\n"
     ]
    }
   ],
   "source": [
    "\n",
    "from torch.utils.data import Dataset, DataLoader, random_split\n",
    "import random\n",
    "\n",
    "\n",
    "class VoiceDataset(Dataset):\n",
    "    def __init__(self, chunk_dir, n_mels=64, augment=False):\n",
    "        self.chunk_dir = chunk_dir\n",
    "        self.files = [f for f in os.listdir(chunk_dir) if f.endswith(\".wav\")]\n",
    "        self.augment = augment\n",
    "\n",
    "        # Mel Spectrogram transform\n",
    "        self.mel_transform = torchaudio.transforms.MelSpectrogram(\n",
    "            sample_rate=22050,\n",
    "            n_fft=1024,\n",
    "            hop_length=512,\n",
    "            n_mels=n_mels\n",
    "        )\n",
    "\n",
    "    def add_augmentation(self, waveform, sr):\n",
    "        if random.random() < 0.5:  # Add noise\n",
    "            noise = torch.randn_like(waveform) * 0.005\n",
    "            waveform = waveform + noise\n",
    "\n",
    "        if random.random() < 0.5:  # Random gain (volume up/down)\n",
    "            gain = random.uniform(0.8, 1.2)\n",
    "            waveform = waveform * gain\n",
    "\n",
    "        if random.random() < 0.3:  # Pitch shift\n",
    "            n_steps = random.uniform(-2, 2)\n",
    "            waveform = torchaudio.functional.pitch_shift(waveform, sr, n_steps)\n",
    "\n",
    "        return waveform\n",
    "\n",
    "    def __len__(self):\n",
    "        return len(self.files)\n",
    "\n",
    "    def __getitem__(self, idx):\n",
    "        file = self.files[idx]\n",
    "        file_path = os.path.join(self.chunk_dir, file)\n",
    "\n",
    "        # Load audio\n",
    "        waveform, sr = torchaudio.load(file_path)\n",
    "\n",
    "        # Convert to mono if needed\n",
    "        if waveform.shape[0] > 1:\n",
    "            waveform = torch.mean(waveform, dim=0, keepdim=True)\n",
    "\n",
    "        # Ensure consistent sample rate\n",
    "        if sr != 22050:\n",
    "            resampler = torchaudio.transforms.Resample(sr, 22050)\n",
    "            waveform = resampler(waveform)\n",
    "\n",
    "        # 🔥 Apply augmentation only in training\n",
    "        if self.augment:\n",
    "            waveform = self.add_augmentation(waveform, 22050)\n",
    "\n",
    "        # Convert to Mel spectrogram\n",
    "        mel = self.mel_transform(waveform)\n",
    "        mel_db = torchaudio.functional.amplitude_to_DB(\n",
    "            mel, multiplier=10.0, amin=1e-10, db_multiplier=0\n",
    "        )\n",
    "\n",
    "        # Label from filename (_0 = healthy, _1 = unhealthy)\n",
    "        label = 1 if \"_1\" in file else 0\n",
    "\n",
    "        return mel_db, torch.tensor(label, dtype=torch.long)\n",
    "\n",
    "\n",
    "# Create dataset\n",
    "dataset = VoiceDataset(\"processed_chunks\")\n",
    "\n",
    "# Train-test split (80/20)\n",
    "train_size = int(0.8 * len(dataset))\n",
    "test_size = len(dataset) - train_size\n",
    "train_dataset, test_dataset = random_split(dataset, [train_size, test_size])\n",
    "\n",
    "# ⚡ Enable augmentation only for train set\n",
    "train_dataset.dataset.augment = True\n",
    "test_dataset.dataset.augment = False\n",
    "\n",
    "# DataLoaders\n",
    "train_loader = DataLoader(train_dataset, batch_size=16, shuffle=True)\n",
    "test_loader = DataLoader(test_dataset, batch_size=16)\n",
    "\n",
    "print(f\"✅ Total samples: {len(dataset)}\")\n",
    "print(f\"📊 Train: {len(train_dataset)}, Test: {len(test_dataset)}\")\n",
    "\n"
   ]
  },
  {
   "cell_type": "code",
   "execution_count": 9,
   "id": "ec73b349",
   "metadata": {},
   "outputs": [
    {
     "name": "stdout",
     "output_type": "stream",
     "text": [
      "Mel shape: torch.Size([1, 64, 216])\n",
      "Label: tensor(0)\n"
     ]
    }
   ],
   "source": [
    "mel, label = dataset[0]\n",
    "print(\"Mel shape:\", mel.shape)\n",
    "print(\"Label:\", label)"
   ]
  },
  {
   "cell_type": "code",
   "execution_count": 10,
   "id": "487e8762",
   "metadata": {},
   "outputs": [],
   "source": [
    "import torch.nn as nn\n",
    "import torch.nn.functional as F\n",
    "\n",
    "\n",
    "class CNNVoiceClassifier(nn.Module):\n",
    "    def __init__(self, num_classes=2):\n",
    "        super(CNNVoiceClassifier, self).__init__()\n",
    "\n",
    "        self.conv1 = nn.Conv2d(1, 16, kernel_size=3, stride=1, padding=1)\n",
    "        self.bn1 = nn.BatchNorm2d(16)\n",
    "        self.pool1 = nn.MaxPool2d(2, 2)\n",
    "\n",
    "        self.conv2 = nn.Conv2d(16, 32, kernel_size=3, stride=1, padding=1)\n",
    "        self.bn2 = nn.BatchNorm2d(32)\n",
    "        self.pool2 = nn.MaxPool2d(2, 2)\n",
    "\n",
    "        self.conv3 = nn.Conv2d(32, 64, kernel_size=3, stride=1, padding=1)\n",
    "        self.bn3 = nn.BatchNorm2d(64)\n",
    "        self.pool3 = nn.AdaptiveAvgPool2d((4, 4))  # compress to fixed size\n",
    "\n",
    "        self.fc1 = nn.Linear(64 * 4 * 4, 128)\n",
    "        self.fc2 = nn.Linear(128, num_classes)\n",
    "\n",
    "    def forward(self, x):\n",
    "        x = self.pool1(F.relu(self.bn1(self.conv1(x))))\n",
    "        x = self.pool2(F.relu(self.bn2(self.conv2(x))))\n",
    "        x = self.pool3(F.relu(self.bn3(self.conv3(x))))\n",
    "        x = x.view(x.size(0), -1)  # flatten\n",
    "        x = F.relu(self.fc1(x))\n",
    "        x = self.fc2(x)\n",
    "        return x"
   ]
  },
  {
   "cell_type": "code",
   "execution_count": 11,
   "id": "bb53d7da",
   "metadata": {},
   "outputs": [
    {
     "name": "stdout",
     "output_type": "stream",
     "text": [
      "Epoch [1/20] Loss: 0.6240, Train Acc: 67.25%\n",
      "Epoch [2/20] Loss: 0.5147, Train Acc: 75.57%\n",
      "Epoch [3/20] Loss: 0.4482, Train Acc: 76.61%\n",
      "Epoch [4/20] Loss: 0.4123, Train Acc: 80.63%\n",
      "Epoch [5/20] Loss: 0.3716, Train Acc: 83.19%\n",
      "Epoch [6/20] Loss: 0.3274, Train Acc: 83.94%\n",
      "Epoch [7/20] Loss: 0.3111, Train Acc: 84.82%\n",
      "Epoch [8/20] Loss: 0.2893, Train Acc: 87.03%\n",
      "Epoch [9/20] Loss: 0.2521, Train Acc: 88.89%\n",
      "Epoch [10/20] Loss: 0.2546, Train Acc: 89.47%\n",
      "Epoch [11/20] Loss: 0.1984, Train Acc: 91.80%\n",
      "Epoch [12/20] Loss: 0.1914, Train Acc: 92.20%\n",
      "Epoch [13/20] Loss: 0.1831, Train Acc: 92.03%\n",
      "Epoch [14/20] Loss: 0.1976, Train Acc: 91.56%\n",
      "Epoch [15/20] Loss: 0.1458, Train Acc: 93.83%\n",
      "Epoch [16/20] Loss: 0.1299, Train Acc: 94.53%\n",
      "Epoch [17/20] Loss: 0.1580, Train Acc: 92.84%\n",
      "Epoch [18/20] Loss: 0.0985, Train Acc: 96.39%\n",
      "Epoch [19/20] Loss: 0.1850, Train Acc: 93.25%\n",
      "Epoch [20/20] Loss: 0.1396, Train Acc: 94.82%\n"
     ]
    }
   ],
   "source": [
    "import torch.optim as optim\n",
    "\n",
    "device = torch.device(\"cuda\" if torch.cuda.is_available() else \"cpu\")\n",
    "model = CNNVoiceClassifier(num_classes=2).to(device)\n",
    "\n",
    "criterion = nn.CrossEntropyLoss()\n",
    "optimizer = optim.Adam(model.parameters(), lr=0.001)\n",
    "\n",
    "num_epochs = 20\n",
    "\n",
    "for epoch in range(num_epochs):\n",
    "    model.train()\n",
    "    running_loss, correct, total = 0, 0, 0\n",
    "\n",
    "    for mel, labels in train_loader:\n",
    "        mel, labels = mel.to(device), labels.to(device)\n",
    "\n",
    "        optimizer.zero_grad()\n",
    "        outputs = model(mel)\n",
    "        loss = criterion(outputs, labels)\n",
    "        loss.backward()\n",
    "        optimizer.step()\n",
    "\n",
    "        running_loss += loss.item()\n",
    "        _, predicted = outputs.max(1)\n",
    "        total += labels.size(0)\n",
    "        correct += predicted.eq(labels).sum().item()\n",
    "\n",
    "    train_acc = 100. * correct / total\n",
    "    print(f\"Epoch [{epoch+1}/{num_epochs}] Loss: {running_loss/len(train_loader):.4f}, Train Acc: {train_acc:.2f}%\")\n"
   ]
  },
  {
   "cell_type": "code",
   "execution_count": 12,
   "id": "e6e4c3fa",
   "metadata": {},
   "outputs": [
    {
     "name": "stdout",
     "output_type": "stream",
     "text": [
      "✅ Test Accuracy: 91.86%\n"
     ]
    }
   ],
   "source": [
    "model.eval()\n",
    "correct, total = 0, 0\n",
    "with torch.no_grad():\n",
    "    for mel, labels in test_loader:\n",
    "        mel, labels = mel.to(device), labels.to(device)\n",
    "        outputs = model(mel)\n",
    "        _, predicted = outputs.max(1)\n",
    "        total += labels.size(0)\n",
    "        correct += predicted.eq(labels).sum().item()\n",
    "\n",
    "print(f\"✅ Test Accuracy: {100. * correct / total:.2f}%\")"
   ]
  },
  {
   "cell_type": "code",
   "execution_count": 13,
   "id": "3c7da5e3",
   "metadata": {},
   "outputs": [
    {
     "name": "stderr",
     "output_type": "stream",
     "text": [
      "c:\\Users\\ayush\\OneDrive\\Desktop\\Evrything\\Workspace\\Pandas\\venv\\Lib\\site-packages\\torchaudio\\_backend\\utils.py:213: UserWarning: In 2.9, this function's implementation will be changed to use torchaudio.load_with_torchcodec` under the hood. Some parameters like ``normalize``, ``format``, ``buffer_size``, and ``backend`` will be ignored. We recommend that you port your code to rely directly on TorchCodec's decoder instead: https://docs.pytorch.org/torchcodec/stable/generated/torchcodec.decoders.AudioDecoder.html#torchcodec.decoders.AudioDecoder.\n",
      "  warnings.warn(\n"
     ]
    },
    {
     "name": "stdout",
     "output_type": "stream",
     "text": [
      "📊 Classification Report:\n",
      "              precision    recall  f1-score   support\n",
      "\n",
      "     Healthy       0.90      0.97      0.93       258\n",
      "   Unhealthy       0.95      0.84      0.89       172\n",
      "\n",
      "    accuracy                           0.92       430\n",
      "   macro avg       0.93      0.91      0.91       430\n",
      "weighted avg       0.92      0.92      0.92       430\n",
      "\n",
      "🧮 Confusion Matrix:\n",
      "[[251   7]\n",
      " [ 28 144]]\n"
     ]
    }
   ],
   "source": [
    "from sklearn.metrics import classification_report, confusion_matrix\n",
    "import numpy as np\n",
    "\n",
    "model.eval()\n",
    "all_labels = []\n",
    "all_preds = []\n",
    "\n",
    "with torch.no_grad():\n",
    "    for mel, labels in test_loader:\n",
    "        mel, labels = mel.to(device), labels.to(device)\n",
    "        outputs = model(mel)\n",
    "        _, predicted = outputs.max(1)\n",
    "\n",
    "        all_labels.extend(labels.cpu().numpy())\n",
    "        all_preds.extend(predicted.cpu().numpy())\n",
    "\n",
    "# Classification report\n",
    "print(\"📊 Classification Report:\")\n",
    "print(classification_report(all_labels, all_preds, target_names=[\"Healthy\", \"Unhealthy\"]))\n",
    "\n",
    "# Confusion matrix\n",
    "cm = confusion_matrix(all_labels, all_preds)\n",
    "print(\"🧮 Confusion Matrix:\")\n",
    "print(cm)\n"
   ]
  },
  {
   "cell_type": "code",
   "execution_count": null,
   "id": "167ecf93",
   "metadata": {},
   "outputs": [],
   "source": []
  }
 ],
 "metadata": {
  "kernelspec": {
   "display_name": "venv",
   "language": "python",
   "name": "python3"
  },
  "language_info": {
   "codemirror_mode": {
    "name": "ipython",
    "version": 3
   },
   "file_extension": ".py",
   "mimetype": "text/x-python",
   "name": "python",
   "nbconvert_exporter": "python",
   "pygments_lexer": "ipython3",
   "version": "3.12.2"
  }
 },
 "nbformat": 4,
 "nbformat_minor": 5
}
